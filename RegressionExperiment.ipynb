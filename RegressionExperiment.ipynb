{
 "cells": [
  {
   "cell_type": "code",
   "execution_count": null,
   "metadata": {},
   "outputs": [
    {
     "data": {
      "image/png": "[encoded data removed]",
      "text/plain": [
       "<matplotlib.figure.Figure at 0xa00aa20>"
      ]
     },
     "metadata": {},
     "output_type": "display_data"
    }
   ],
   "source": [
    "from sklearn.datasets import load_svmlight_file\n",
    "from sklearn.model_selection import train_test_split\n",
    "import numpy as np\n",
    "from matplotlib import pyplot\n",
    "train,target=load_svmlight_file('C:/Users/chen/Desktop/housing.txt')#读取数据\n",
    "x_train,x_test, y_train,y_test = train_test_split(train,\n",
    "target,\n",
    "test_size = 0.2,\n",
    "random_state = 0)#切分数据集\n",
    "def loss_fn(x, y, theta):\n",
    "    m = len(y)\n",
    "    return np.sum((x.dot(theta) - y) ** 2) / (2 * m)\n",
    "#批量梯度下降函数\n",
    "def GradientDescent(x, y, theta, alpha, m, maxIterations):\n",
    "    xTrains = x.transpose()#取x的转置矩阵\n",
    "    loss_iteration = [0] * maxIterations#迭代loss\n",
    "    for i in range(0, maxIterations):\n",
    "     hypothesis = x.dot(theta)\n",
    "     loss =hypothesis - y\n",
    "     gradient = xTrains.dot(loss)/m\n",
    "     loss = loss_fn(x, y, theta)\n",
    "     loss_iteration[i] = loss\n",
    "     theta = theta - alpha * gradient\n",
    "    return theta,loss_iteration\n",
    "m, n = np.shape(x_train)\n",
    "theta= np.zeros((n,1))#参数模型初始化\n",
    "alpha = 0.005#设定学习率\n",
    "maxIteration = 10000#设定迭代次数\n",
    "y_train=y_train.reshape(m,1)\n",
    "m, n = np.shape(x_test)\n",
    "y_test=y_test.reshape(m,1)\n",
    "theta_train,loss_iteration_train = GradientDescent(x_train,y_train, theta, alpha, m, maxIteration)\n",
    "theta_test,loss_iteration_test = GradientDescent(x_test,y_test, theta, alpha, m, maxIteration)\n",
    "pyplot.plot(loss_iteration_train, mfc='w',label='train')\n",
    "pyplot.plot(loss_iteration_test, mfc='w',label='test')\n",
    "pyplot.legend()\n",
    "pyplot.xlabel(\"iteration\")\n",
    "pyplot.ylabel(\"loss\")\n",
    "pyplot.show()"
   ]
  },
  {
   "cell_type": "code",
   "execution_count": null,
   "metadata": {
    "collapsed": true
   },
   "outputs": [],
   "source": []
  }
 ],
 "metadata": {
  "kernelspec": {
   "display_name": "Python 3",
   "language": "python",
   "name": "python3"
  },
  "language_info": {
   "codemirror_mode": {
    "name": "ipython",
    "version": 3
   },
   "file_extension": ".py",
   "mimetype": "text/x-python",
   "name": "python",
   "nbconvert_exporter": "python",
   "pygments_lexer": "ipython3",
   "version": "3.6.3"
  }
 },
 "nbformat": 4,
 "nbformat_minor": 2
}
